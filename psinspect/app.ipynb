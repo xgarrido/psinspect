{
 "cells": [
  {
   "cell_type": "code",
   "execution_count": null,
   "id": "8589fb9d-b159-4845-8cd8-11a29f0ab7b9",
   "metadata": {
    "editable": true,
    "slideshow": {
     "slide_type": ""
    },
    "tags": []
   },
   "outputs": [],
   "source": [
    "from psinspect import App"
   ]
  },
  {
   "cell_type": "code",
   "execution_count": null,
   "id": "00612dbd-9c47-4cdb-867a-bf067b3a2337",
   "metadata": {
    "editable": true,
    "slideshow": {
     "slide_type": ""
    },
    "tags": []
   },
   "outputs": [],
   "source": [
    "my_app = App()"
   ]
  },
  {
   "cell_type": "code",
   "execution_count": null,
   "id": "1f8c44a0-7717-427f-a716-c2a4a0d220a8",
   "metadata": {},
   "outputs": [],
   "source": [
    "my_app.initialize()"
   ]
  },
  {
   "cell_type": "code",
   "execution_count": null,
   "id": "c5ba34fa-e334-4a5f-a75f-bb1d64c8e7d6",
   "metadata": {},
   "outputs": [],
   "source": [
    "my_app.run()"
   ]
  }
 ],
 "metadata": {
  "kernelspec": {
   "display_name": "Python 3 (ipykernel)",
   "language": "python",
   "name": "python3"
  },
  "language_info": {
   "codemirror_mode": {
    "name": "ipython",
    "version": 3
   },
   "file_extension": ".py",
   "mimetype": "text/x-python",
   "name": "python",
   "nbconvert_exporter": "python",
   "pygments_lexer": "ipython3",
   "version": "3.11.6"
  },
  "widgets": {
   "application/vnd.jupyter.widget-state+json": {
    "state": {},
    "version_major": 2,
    "version_minor": 0
   }
  }
 },
 "nbformat": 4,
 "nbformat_minor": 5
}
